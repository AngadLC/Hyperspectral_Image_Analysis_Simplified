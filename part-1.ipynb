{
 "cells": [
  {
   "cell_type": "markdown",
   "metadata": {},
   "source": [
    "# Hyperspectral Images(HSI) Analysis Simplified"
   ]
  },
  {
   "cell_type": "markdown",
   "metadata": {},
   "source": [
    "### This tutorial focuses on:\n",
    "1. Introduction\n",
    "2. How to ownload HSI\n",
    "3. Reading hyperspectral image\n",
    "4. Visualizing the bands of the Hyperspectral image\n",
    "5. Visualizing ground truth of the image.\n",
    "6. Extracting pixels of the HSI\n",
    "7. Visualizing spectral signatures"
   ]
  },
  {
   "cell_type": "markdown",
   "metadata": {},
   "source": [
    "### 1. Introduction"
   ]
  },
  {
   "cell_type": "code",
   "execution_count": 116,
   "metadata": {},
   "outputs": [
    {
     "data": {
      "text/html": [
       "<h5>See the below video which give a brief introduction on hyperspectral imaging.</h5><p>Credit- SPECIM</p></br>\n",
       "        <center><iframe width=\"920\" height=\"420\"src=\"https://www.youtube-nocookie.com/embed/_sUZ96YZOQU\" \n",
       "        frameborder=\"0\" allow=\"accelerometer; autoplay; encrypted-media; gyroscope; picture-in-picture\" \n",
       "        allowfullscreen></iframe></center>"
      ],
      "text/plain": [
       "<IPython.core.display.HTML object>"
      ]
     },
     "execution_count": 116,
     "metadata": {},
     "output_type": "execute_result"
    }
   ],
   "source": [
    "from IPython.display import HTML\n",
    "\n",
    "HTML('''<h5>See the below video which give a brief introduction on hyperspectral imaging.</h5><p>Credit- SPECIM</p></br>\n",
    "        <center><iframe width=\"920\" height=\"420\"src=\"https://www.youtube-nocookie.com/embed/_sUZ96YZOQU\" \n",
    "        frameborder=\"0\" allow=\"accelerometer; autoplay; encrypted-media; gyroscope; picture-in-picture\" \n",
    "        allowfullscreen></iframe></center>''')\n"
   ]
  },
  {
   "cell_type": "markdown",
   "metadata": {},
   "source": [
    "### 2. How to download Hyperspectral images"
   ]
  },
  {
   "cell_type": "markdown",
   "metadata": {},
   "source": [
    "* The bench mark hyperspectral image datasets are available on the [Conputational intelligence Group](http://www.ehu.eus/ccwintco/index.php?title=Hyperspectral_Remote_Sensing_Scenes) website. \n",
    "* Copy the download link address of the hyperspectral image dataset and use **wget** command to download.\n",
    "* The entire tutorial uses **Indian Pines HSI Dataset**."
   ]
  },
  {
   "cell_type": "code",
   "execution_count": 2,
   "metadata": {},
   "outputs": [
    {
     "name": "stdout",
     "output_type": "stream",
     "text": [
      "--2019-12-13 04:09:22--  http://www.ehu.eus/ccwintco/uploads/6/67/Indian_pines_corrected.mat\n",
      "Resolving www.ehu.eus (www.ehu.eus)... 158.227.0.65, 2001:720:1410::65\n",
      "Connecting to www.ehu.eus (www.ehu.eus)|158.227.0.65|:80... connected.\n",
      "HTTP request sent, awaiting response... 200 OK\n",
      "Length: 5953527 (5.7M) [text/plain]\n",
      "Saving to: ‘Indian_pines_corrected.mat’\n",
      "\n",
      "Indian_pines_correc 100%[===================>]   5.68M  1.16MB/s    in 5.0s    \n",
      "\n",
      "2019-12-13 04:09:27 (1.13 MB/s) - ‘Indian_pines_corrected.mat’ saved [5953527/5953527]\n",
      "\n",
      "--2019-12-13 04:09:28--  http://www.ehu.eus/ccwintco/uploads/c/c4/Indian_pines_gt.mat\n",
      "Resolving www.ehu.eus (www.ehu.eus)... 158.227.0.65, 2001:720:1410::65\n",
      "Connecting to www.ehu.eus (www.ehu.eus)|158.227.0.65|:80... connected.\n",
      "HTTP request sent, awaiting response... 200 OK\n",
      "Length: 1125 (1.1K) [text/plain]\n",
      "Saving to: ‘Indian_pines_gt.mat’\n",
      "\n",
      "Indian_pines_gt.mat 100%[===================>]   1.10K  --.-KB/s    in 0s      \n",
      "\n",
      "2019-12-13 04:09:28 (91.8 MB/s) - ‘Indian_pines_gt.mat’ saved [1125/1125]\n",
      "\n"
     ]
    }
   ],
   "source": [
    "!wget \"http://www.ehu.eus/ccwintco/uploads/6/67/Indian_pines_corrected.mat\"\n",
    "\n",
    "!wget \"http://www.ehu.eus/ccwintco/uploads/c/c4/Indian_pines_gt.mat\"   \n"
   ]
  },
  {
   "cell_type": "markdown",
   "metadata": {},
   "source": [
    "* The files are stored in current working directory"
   ]
  },
  {
   "cell_type": "code",
   "execution_count": 3,
   "metadata": {},
   "outputs": [
    {
     "name": "stdout",
     "output_type": "stream",
     "text": [
      "apt.txt\t\t Index.ipynb\t\t     Indian_pines_gt.mat\r\n",
      "environment.yml  Indian_pines_corrected.mat\r\n"
     ]
    }
   ],
   "source": [
    "!ls"
   ]
  },
  {
   "cell_type": "markdown",
   "metadata": {},
   "source": [
    "**Indian_pines_corrected.mat** - The data set in .mat format\n",
    "\n",
    "**Indian_pines_gt.mat** - The ground truth of the dataset in .mat format\n",
    "\n",
    "Groundtruth classes for the Indian Pines scene and their respective samples number\n",
    "\n",
    "\n",
    "<table style=\"text-align:center;\" align=\"left\">\n",
    "<tbody><tr>\n",
    "<th colspan=\"3\">\n",
    "</th></tr>\n",
    "<tr>\n",
    "<th style=\"border-style: solid; border-width: 1px\"> #\n",
    "</th>\n",
    "<th style=\"border-style: solid; border-width: 1px\"> Class\n",
    "</th>\n",
    "<th style=\"border-style: solid; border-width: 1px\"> Samples\n",
    "</th></tr>\n",
    "<tr>\n",
    "<td style=\"border-style: solid; border-width: 1px\"> 1\n",
    "</td>\n",
    "<td style=\"border-style: solid; border-width: 1px\"> Alfalfa\n",
    "</td>\n",
    "<td style=\"border-style: solid; border-width: 1px\"> 46\n",
    "</td></tr>\n",
    "<tr>\n",
    "<td style=\"border-style: solid; border-width: 1px\"> 2\n",
    "</td>\n",
    "<td style=\"border-style: solid; border-width: 1px\"> Corn-notill\n",
    "</td>\n",
    "<td style=\"border-style: solid; border-width: 1px\"> 1428\n",
    "</td></tr>\n",
    "<tr>\n",
    "<td style=\"border-style: solid; border-width: 1px\"> 3\n",
    "</td>\n",
    "<td style=\"border-style: solid; border-width: 1px\"> Corn-mintill\n",
    "</td>\n",
    "<td style=\"border-style: solid; border-width: 1px\"> 830\n",
    "</td></tr>\n",
    "<tr>\n",
    "<td style=\"border-style: solid; border-width: 1px\"> 4\n",
    "</td>\n",
    "<td style=\"border-style: solid; border-width: 1px\"> Corn\n",
    "</td>\n",
    "<td style=\"border-style: solid; border-width: 1px\"> 237\n",
    "</td></tr>\n",
    "<tr>\n",
    "<td style=\"border-style: solid; border-width: 1px\"> 5\n",
    "</td>\n",
    "<td style=\"border-style: solid; border-width: 1px\"> Grass-pasture\n",
    "</td>\n",
    "<td style=\"border-style: solid; border-width: 1px\"> 483\n",
    "</td></tr>\n",
    "<tr>\n",
    "<td style=\"border-style: solid; border-width: 1px\"> 6\n",
    "</td>\n",
    "<td style=\"border-style: solid; border-width: 1px\"> Grass-trees\n",
    "</td>\n",
    "<td style=\"border-style: solid; border-width: 1px\"> 730\n",
    "</td></tr>\n",
    "<tr>\n",
    "<td style=\"border-style: solid; border-width: 1px\"> 7\n",
    "</td>\n",
    "<td style=\"border-style: solid; border-width: 1px\"> Grass-pasture-mowed\n",
    "</td>\n",
    "<td style=\"border-style: solid; border-width: 1px\"> 28\n",
    "</td></tr>\n",
    "<tr>\n",
    "<td style=\"border-style: solid; border-width: 1px\"> 8\n",
    "</td>\n",
    "<td style=\"border-style: solid; border-width: 1px\"> Hay-windrowed\n",
    "</td>\n",
    "<td style=\"border-style: solid; border-width: 1px\"> 478\n",
    "</td></tr>\n",
    "<tr>\n",
    "<td style=\"border-style: solid; border-width: 1px\"> 9\n",
    "</td>\n",
    "<td style=\"border-style: solid; border-width: 1px\"> Oats\n",
    "</td>\n",
    "<td style=\"border-style: solid; border-width: 1px\"> 20\n",
    "</td></tr>\n",
    "<tr>\n",
    "<td style=\"border-style: solid; border-width: 1px\"> 10\n",
    "</td>\n",
    "<td style=\"border-style: solid; border-width: 1px\"> Soybean-notill\n",
    "</td>\n",
    "<td style=\"border-style: solid; border-width: 1px\"> 972\n",
    "</td></tr>\n",
    "<tr>\n",
    "<td style=\"border-style: solid; border-width: 1px\"> 11\n",
    "</td>\n",
    "<td style=\"border-style: solid; border-width: 1px\"> Soybean-mintill\n",
    "</td>\n",
    "<td style=\"border-style: solid; border-width: 1px\"> 2455\n",
    "</td></tr>\n",
    "<tr>\n",
    "<td style=\"border-style: solid; border-width: 1px\"> 12\n",
    "</td>\n",
    "<td style=\"border-style: solid; border-width: 1px\"> Soybean-clean\n",
    "</td>\n",
    "<td style=\"border-style: solid; border-width: 1px\"> 593\n",
    "</td></tr>\n",
    "<tr>\n",
    "<td style=\"border-style: solid; border-width: 1px\"> 13\n",
    "</td>\n",
    "<td style=\"border-style: solid; border-width: 1px\"> Wheat\n",
    "</td>\n",
    "<td style=\"border-style: solid; border-width: 1px\"> 205\n",
    "</td></tr>\n",
    "<tr>\n",
    "<td style=\"border-style: solid; border-width: 1px\"> 14\n",
    "</td>\n",
    "<td style=\"border-style: solid; border-width: 1px\"> Woods\n",
    "</td>\n",
    "<td style=\"border-style: solid; border-width: 1px\"> 1265\n",
    "</td></tr>\n",
    "<tr>\n",
    "<td style=\"border-style: solid; border-width: 1px\"> 15\n",
    "</td>\n",
    "<td style=\"border-style: solid; border-width: 1px\"> Buildings-Grass-Trees-Drives\n",
    "</td>\n",
    "<td style=\"border-style: solid; border-width: 1px\"> 386\n",
    "</td></tr>\n",
    "<tr>\n",
    "<td style=\"border-style: solid; border-width: 1px\"> 16\n",
    "</td>\n",
    "<td style=\"border-style: solid; border-width: 1px\"> Stone-Steel-Towers\n",
    "</td>\n",
    "<td style=\"border-style: solid; border-width: 1px\"> 93\n",
    "</td></tr></tbody></table>"
   ]
  },
  {
   "cell_type": "markdown",
   "metadata": {},
   "source": [
    "### 3. Reading hyperspectral image\n",
    "\n",
    "* To read hyperspectral image, the **scipy** python package which is used to do scientific calculations. "
   ]
  },
  {
   "cell_type": "code",
   "execution_count": 4,
   "metadata": {},
   "outputs": [],
   "source": [
    "## Importing Library.\n",
    "from scipy.io import loadmat"
   ]
  },
  {
   "cell_type": "code",
   "execution_count": 8,
   "metadata": {},
   "outputs": [],
   "source": [
    "## Read the data.\n",
    "dataset = loadmat('Indian_pines_corrected.mat')['indian_pines_corrected']\n",
    "ground_truth = loadmat('Indian_pines_gt.mat')['indian_pines_gt']"
   ]
  },
  {
   "cell_type": "code",
   "execution_count": 10,
   "metadata": {},
   "outputs": [
    {
     "name": "stdout",
     "output_type": "stream",
     "text": [
      "Dataset: (145, 145, 200)\n",
      "Ground Truth: (145, 145)\n"
     ]
    }
   ],
   "source": [
    "#The dimensions of the data.\n",
    "print(f'Dataset: {dataset.shape}\\nGround Truth: {ground_truth.shape}')"
   ]
  },
  {
   "cell_type": "markdown",
   "metadata": {},
   "source": [
    "### 4. Visualizing the bands of the Hyperspectral image\n",
    "\n",
    "* The total number of the bands in the indian pines dataset is 200.\n",
    "* The below function plots the bands of the data."
   ]
  },
  {
   "cell_type": "code",
   "execution_count": 25,
   "metadata": {},
   "outputs": [],
   "source": [
    "import numpy as np\n",
    "import matplotlib.pyplot as plt\n",
    "\n",
    "def plot_band(dataset):\n",
    "    plt.figure(figsize=(8, 6))\n",
    "    band_no = np.random.randint(dataset.shape[2])\n",
    "    plt.imshow(dataset[:,:, band_no], cmap='jet')\n",
    "    plt.title(f'Band-{band_no}', fontsize=14)\n",
    "    plt.axis('off')\n",
    "    plt.colorbar()\n",
    "    plt.show()\n",
    "    \n",
    "    "
   ]
  },
  {
   "cell_type": "code",
   "execution_count": 26,
   "metadata": {},
   "outputs": [
    {
     "data": {
      "image/png": "[encoded data removed]",
      "text/plain": [
       "<Figure size 576x432 with 2 Axes>"
      ]
     },
     "metadata": {
      "needs_background": "light"
     },
     "output_type": "display_data"
    }
   ],
   "source": [
    "plot_band(dataset)"
   ]
  },
  {
   "cell_type": "markdown",
   "metadata": {},
   "source": [
    "### 5. Visualizing ground truth of the image.\n",
    "\n",
    "* The below code snippet plots the ground truth of the indian pines dataset."
   ]
  },
  {
   "cell_type": "code",
   "execution_count": 30,
   "metadata": {},
   "outputs": [
    {
     "data": {
      "image/png": "[encoded data removed]",
      "text/plain": [
       "<Figure size 576x432 with 2 Axes>"
      ]
     },
     "metadata": {
      "needs_background": "light"
     },
     "output_type": "display_data"
    }
   ],
   "source": [
    "plt.figure(figsize=(8, 6))\n",
    "plt.imshow(ground_truth, cmap='jet')\n",
    "plt.axis('off')\n",
    "plt.colorbar()\n",
    "plt.show()"
   ]
  },
  {
   "cell_type": "markdown",
   "metadata": {},
   "source": [
    "### 6. Extracting pixels of the HSI\n",
    "\n",
    "The below function is used to extrac the pixels and class labels of the hyperspectral image."
   ]
  },
  {
   "cell_type": "code",
   "execution_count": 64,
   "metadata": {},
   "outputs": [],
   "source": [
    "from tqdm import tqdm\n",
    "import pandas as pd\n",
    "def extract_pixels(dataset, ground_truth):\n",
    "    df = pd.DataFrame()\n",
    "    for i in tqdm(range(dataset.shape[2])):\n",
    "        df = pd.concat([df, pd.DataFrame(dataset[:, :, i].ravel())], axis=1)\n",
    "    df = pd.concat([df, pd.DataFrame(ground_truth.ravel())], axis=1)\n",
    "    df.columns = [f'band-{i}' for i in range(1, 1+dataset.shape[2])]+['class']\n",
    "    return df\n",
    "        "
   ]
  },
  {
   "cell_type": "code",
   "execution_count": 65,
   "metadata": {},
   "outputs": [
    {
     "name": "stderr",
     "output_type": "stream",
     "text": [
      "100%|██████████| 200/200 [00:00<00:00, 361.91it/s]\n"
     ]
    }
   ],
   "source": [
    "df = extract_pixels(dataset, ground_truth)"
   ]
  },
  {
   "cell_type": "code",
   "execution_count": 67,
   "metadata": {},
   "outputs": [
    {
     "data": {
      "text/html": [
       "<div>\n",
       "<style scoped>\n",
       "    .dataframe tbody tr th:only-of-type {\n",
       "        vertical-align: middle;\n",
       "    }\n",
       "\n",
       "    .dataframe tbody tr th {\n",
       "        vertical-align: top;\n",
       "    }\n",
       "\n",
       "    .dataframe thead th {\n",
       "        text-align: right;\n",
       "    }\n",
       "</style>\n",
       "<table border=\"1\" class=\"dataframe\">\n",
       "  <thead>\n",
       "    <tr style=\"text-align: right;\">\n",
       "      <th></th>\n",
       "      <th>band-1</th>\n",
       "      <th>band-2</th>\n",
       "      <th>band-3</th>\n",
       "      <th>band-4</th>\n",
       "      <th>band-5</th>\n",
       "      <th>band-6</th>\n",
       "      <th>band-7</th>\n",
       "      <th>band-8</th>\n",
       "      <th>band-9</th>\n",
       "      <th>band-10</th>\n",
       "      <th>...</th>\n",
       "      <th>band-192</th>\n",
       "      <th>band-193</th>\n",
       "      <th>band-194</th>\n",
       "      <th>band-195</th>\n",
       "      <th>band-196</th>\n",
       "      <th>band-197</th>\n",
       "      <th>band-198</th>\n",
       "      <th>band-199</th>\n",
       "      <th>band-200</th>\n",
       "      <th>class</th>\n",
       "    </tr>\n",
       "  </thead>\n",
       "  <tbody>\n",
       "    <tr>\n",
       "      <th>0</th>\n",
       "      <td>3172</td>\n",
       "      <td>4142</td>\n",
       "      <td>4506</td>\n",
       "      <td>4279</td>\n",
       "      <td>4782</td>\n",
       "      <td>5048</td>\n",
       "      <td>5213</td>\n",
       "      <td>5106</td>\n",
       "      <td>5053</td>\n",
       "      <td>4750</td>\n",
       "      <td>...</td>\n",
       "      <td>1094</td>\n",
       "      <td>1090</td>\n",
       "      <td>1112</td>\n",
       "      <td>1090</td>\n",
       "      <td>1062</td>\n",
       "      <td>1069</td>\n",
       "      <td>1057</td>\n",
       "      <td>1020</td>\n",
       "      <td>1020</td>\n",
       "      <td>3</td>\n",
       "    </tr>\n",
       "    <tr>\n",
       "      <th>1</th>\n",
       "      <td>2580</td>\n",
       "      <td>4266</td>\n",
       "      <td>4502</td>\n",
       "      <td>4426</td>\n",
       "      <td>4853</td>\n",
       "      <td>5249</td>\n",
       "      <td>5352</td>\n",
       "      <td>5353</td>\n",
       "      <td>5347</td>\n",
       "      <td>5065</td>\n",
       "      <td>...</td>\n",
       "      <td>1108</td>\n",
       "      <td>1104</td>\n",
       "      <td>1117</td>\n",
       "      <td>1091</td>\n",
       "      <td>1079</td>\n",
       "      <td>1085</td>\n",
       "      <td>1064</td>\n",
       "      <td>1029</td>\n",
       "      <td>1020</td>\n",
       "      <td>3</td>\n",
       "    </tr>\n",
       "    <tr>\n",
       "      <th>2</th>\n",
       "      <td>3687</td>\n",
       "      <td>4266</td>\n",
       "      <td>4421</td>\n",
       "      <td>4498</td>\n",
       "      <td>5019</td>\n",
       "      <td>5293</td>\n",
       "      <td>5438</td>\n",
       "      <td>5427</td>\n",
       "      <td>5383</td>\n",
       "      <td>5132</td>\n",
       "      <td>...</td>\n",
       "      <td>1111</td>\n",
       "      <td>1114</td>\n",
       "      <td>1114</td>\n",
       "      <td>1100</td>\n",
       "      <td>1065</td>\n",
       "      <td>1092</td>\n",
       "      <td>1061</td>\n",
       "      <td>1030</td>\n",
       "      <td>1016</td>\n",
       "      <td>3</td>\n",
       "    </tr>\n",
       "    <tr>\n",
       "      <th>3</th>\n",
       "      <td>2749</td>\n",
       "      <td>4258</td>\n",
       "      <td>4603</td>\n",
       "      <td>4493</td>\n",
       "      <td>4958</td>\n",
       "      <td>5234</td>\n",
       "      <td>5417</td>\n",
       "      <td>5355</td>\n",
       "      <td>5349</td>\n",
       "      <td>5096</td>\n",
       "      <td>...</td>\n",
       "      <td>1122</td>\n",
       "      <td>1108</td>\n",
       "      <td>1109</td>\n",
       "      <td>1109</td>\n",
       "      <td>1071</td>\n",
       "      <td>1088</td>\n",
       "      <td>1060</td>\n",
       "      <td>1030</td>\n",
       "      <td>1006</td>\n",
       "      <td>3</td>\n",
       "    </tr>\n",
       "    <tr>\n",
       "      <th>4</th>\n",
       "      <td>2746</td>\n",
       "      <td>4018</td>\n",
       "      <td>4675</td>\n",
       "      <td>4417</td>\n",
       "      <td>4886</td>\n",
       "      <td>5117</td>\n",
       "      <td>5215</td>\n",
       "      <td>5096</td>\n",
       "      <td>5098</td>\n",
       "      <td>4834</td>\n",
       "      <td>...</td>\n",
       "      <td>1110</td>\n",
       "      <td>1107</td>\n",
       "      <td>1112</td>\n",
       "      <td>1094</td>\n",
       "      <td>1072</td>\n",
       "      <td>1087</td>\n",
       "      <td>1052</td>\n",
       "      <td>1034</td>\n",
       "      <td>1019</td>\n",
       "      <td>3</td>\n",
       "    </tr>\n",
       "  </tbody>\n",
       "</table>\n",
       "<p>5 rows × 201 columns</p>\n",
       "</div>"
      ],
      "text/plain": [
       "   band-1  band-2  band-3  band-4  band-5  band-6  band-7  band-8  band-9  \\\n",
       "0    3172    4142    4506    4279    4782    5048    5213    5106    5053   \n",
       "1    2580    4266    4502    4426    4853    5249    5352    5353    5347   \n",
       "2    3687    4266    4421    4498    5019    5293    5438    5427    5383   \n",
       "3    2749    4258    4603    4493    4958    5234    5417    5355    5349   \n",
       "4    2746    4018    4675    4417    4886    5117    5215    5096    5098   \n",
       "\n",
       "   band-10  ...  band-192  band-193  band-194  band-195  band-196  band-197  \\\n",
       "0     4750  ...      1094      1090      1112      1090      1062      1069   \n",
       "1     5065  ...      1108      1104      1117      1091      1079      1085   \n",
       "2     5132  ...      1111      1114      1114      1100      1065      1092   \n",
       "3     5096  ...      1122      1108      1109      1109      1071      1088   \n",
       "4     4834  ...      1110      1107      1112      1094      1072      1087   \n",
       "\n",
       "   band-198  band-199  band-200  class  \n",
       "0      1057      1020      1020      3  \n",
       "1      1064      1029      1020      3  \n",
       "2      1061      1030      1016      3  \n",
       "3      1060      1030      1006      3  \n",
       "4      1052      1034      1019      3  \n",
       "\n",
       "[5 rows x 201 columns]"
      ]
     },
     "execution_count": 67,
     "metadata": {},
     "output_type": "execute_result"
    }
   ],
   "source": [
    "df.head()"
   ]
  },
  {
   "cell_type": "markdown",
   "metadata": {},
   "source": [
    "Saving the data to a **csv** file."
   ]
  },
  {
   "cell_type": "code",
   "execution_count": 68,
   "metadata": {},
   "outputs": [],
   "source": [
    "df.to_csv('Dataset.csv', index=False)"
   ]
  },
  {
   "cell_type": "markdown",
   "metadata": {},
   "source": [
    "### 7. Visualizing spectral signatures\n",
    "\n",
    "The below function plots the spectral signature."
   ]
  },
  {
   "cell_type": "code",
   "execution_count": 113,
   "metadata": {},
   "outputs": [],
   "source": [
    "def plot_signature(df):\n",
    "    plt.figure(figsize=(12, 6))\n",
    "    pixel_no = np.random.randint(df.shape[0])\n",
    "    plt.plot(range(1, 201), df.iloc[pixel_no, :-1].values.tolist(), 'b--', label= f'Class - {df.iloc[pixel_no, -1]}')\n",
    "    plt.legend()\n",
    "    plt.title(f'Pixel({pixel_no}) signature', fontsize=14)\n",
    "    plt.xlabel('Band Number', fontsize=14)\n",
    "    plt.ylabel('Pixel Intensity', fontsize=14)\n",
    "    plt.show()\n",
    "    "
   ]
  },
  {
   "cell_type": "code",
   "execution_count": 114,
   "metadata": {},
   "outputs": [
    {
     "data": {
      "image/png": "[encoded data removed]",
      "text/plain": [
       "<Figure size 864x432 with 1 Axes>"
      ]
     },
     "metadata": {
      "needs_background": "light"
     },
     "output_type": "display_data"
    }
   ],
   "source": [
    "plot_signature(df)"
   ]
  },
  {
   "cell_type": "markdown",
   "metadata": {},
   "source": [
    "## Do Star if you like the repository"
   ]
  },
  {
   "cell_type": "code",
   "execution_count": null,
   "metadata": {},
   "outputs": [],
   "source": []
  }
 ],
 "metadata": {
  "kernelspec": {
   "display_name": "Python 3",
   "language": "python",
   "name": "python3"
  },
  "language_info": {
   "codemirror_mode": {
    "name": "ipython",
    "version": 3
   },
   "file_extension": ".py",
   "mimetype": "text/x-python",
   "name": "python",
   "nbconvert_exporter": "python",
   "pygments_lexer": "ipython3",
   "version": "3.6.7"
  }
 },
 "nbformat": 4,
 "nbformat_minor": 2
}
